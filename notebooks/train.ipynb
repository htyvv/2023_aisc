{
 "cells": [
  {
   "attachments": {},
   "cell_type": "markdown",
   "metadata": {},
   "source": [
    "## Lib"
   ]
  },
  {
   "cell_type": "code",
   "execution_count": 86,
   "metadata": {},
   "outputs": [],
   "source": [
    "import pandas as pd\n",
    "import numpy as np\n",
    "import os\n",
    "import matplotlib.pyplot as plt\n",
    "from sklearn.preprocessing import MinMaxScaler\n",
    "from sklearn.svm import OneClassSVM\n",
    "from tqdm import tqdm\n",
    "import pickle\n",
    "\n",
    "pd.set_option('mode.chained_assignment', None)"
   ]
  },
  {
   "attachments": {},
   "cell_type": "markdown",
   "metadata": {},
   "source": [
    "## Config"
   ]
  },
  {
   "cell_type": "code",
   "execution_count": 87,
   "metadata": {},
   "outputs": [],
   "source": [
    "DATA_PATH = \"/home/gjxodud1/2023_aisc/data\"\n",
    "RESULT_PATH = \"/home/gjxodud1/2023_aisc/result\"\n",
    "TRAIN_FILE_NAME = \"train_data.csv\"\n",
    "TEST_FILE_NAME = \"test_data.csv\"\n",
    "ANSWER_SAMPLE_FILE_NAME = \"answer_sample.csv\"\n",
    "\n",
    "NORMAL_LABEL = 1\n",
    "ABNORMAL_LABEL = -1"
   ]
  },
  {
   "attachments": {},
   "cell_type": "markdown",
   "metadata": {},
   "source": [
    "## Load"
   ]
  },
  {
   "cell_type": "code",
   "execution_count": 88,
   "metadata": {},
   "outputs": [],
   "source": [
    "train_df = pd.read_csv(os.path.join(DATA_PATH, TRAIN_FILE_NAME))\n",
    "test_df = pd.read_csv(os.path.join(DATA_PATH, TEST_FILE_NAME))\n",
    "ans_sample_df = pd.read_csv(os.path.join(DATA_PATH, ANSWER_SAMPLE_FILE_NAME))"
   ]
  },
  {
   "attachments": {},
   "cell_type": "markdown",
   "metadata": {},
   "source": [
    "## Preprocess"
   ]
  },
  {
   "cell_type": "code",
   "execution_count": 83,
   "metadata": {},
   "outputs": [],
   "source": [
    "# convert type to house power column\n",
    "\n",
    "# 설비 번호 [0, 4, 5, 6, 7]: 30HP(마력)\n",
    "# 설비 번호 1: 20HP\n",
    "# 설비 번호 2: 10HP\n",
    "# 설비 번호 3: 50HP\n",
    "\n",
    "train_df[\"horse_pwr\"] = pd.Series(dtype=float)\n",
    "train_df.loc[:,\"horse_pwr\"][train_df.type.isin([0, 4, 5, 6, 7])] = 30\n",
    "train_df.loc[:,\"horse_pwr\"][train_df.type.isin([1])] = 20\n",
    "train_df.loc[:,\"horse_pwr\"][train_df.type.isin([2])] = 10\n",
    "train_df.loc[:,\"horse_pwr\"][train_df.type.isin([3])] = 50\n",
    "\n",
    "test_df[\"horse_pwr\"] = pd.Series(dtype=float)\n",
    "test_df.loc[:,\"horse_pwr\"][test_df.type.isin([0, 4, 5, 6, 7])] = 30\n",
    "test_df.loc[:,\"horse_pwr\"][test_df.type.isin([1])] = 20\n",
    "test_df.loc[:,\"horse_pwr\"][test_df.type.isin([2])] = 10\n",
    "test_df.loc[:,\"horse_pwr\"][test_df.type.isin([3])] = 50"
   ]
  },
  {
   "attachments": {},
   "cell_type": "markdown",
   "metadata": {},
   "source": [
    "## EDA 결과\n",
    "##### out_pressure는 의미 없어보여서 삭제\n",
    "##### normalize 필요 "
   ]
  },
  {
   "cell_type": "code",
   "execution_count": 84,
   "metadata": {},
   "outputs": [],
   "source": [
    "column_list = [\n",
    "    'air_inflow', 'air_end_temp', 'motor_current', 'out_pressure',\n",
    "    'motor_rpm', 'motor_temp', 'motor_vibe'\n",
    "]"
   ]
  },
  {
   "cell_type": "code",
   "execution_count": 85,
   "metadata": {},
   "outputs": [],
   "source": [
    "X_train = train_df[column_list].to_numpy(np.float32)\n",
    "y_train = np.ones((X_train.shape[0], 1))\n",
    "X_test = test_df[column_list].to_numpy(np.float32)\n",
    "\n",
    "concated_X_train = pd.concat([train_df[column_list], test_df[column_list]], axis=0).to_numpy(np.float32)"
   ]
  },
  {
   "attachments": {},
   "cell_type": "markdown",
   "metadata": {},
   "source": [
    "## Utils"
   ]
  },
  {
   "cell_type": "code",
   "execution_count": 89,
   "metadata": {},
   "outputs": [],
   "source": [
    "def make_answer(test_df, answer, file_name=None, save=False):\n",
    "    \n",
    "    ans_df = pd.DataFrame()\n",
    "    ans_df[\"type\"] = test_df[\"type\"]\n",
    "    ans_df[\"label\"] = answer.astype(int)\n",
    "    \n",
    "    # Converting labels(Normal, Abnormal): (1, -1) -> (0, 1) \n",
    "    ans_df[\"label\"][ans_df[\"label\"] == 1] = 0\n",
    "    ans_df[\"label\"][ans_df[\"label\"] == -1] = 1\n",
    "    \n",
    "    if save:\n",
    "        save_path = os.path.join(RESULT_PATH, file_name)\n",
    "        ans_df.to_csv(save_path, index=False)\n",
    "    return ans_df"
   ]
  },
  {
   "attachments": {},
   "cell_type": "markdown",
   "metadata": {},
   "source": [
    "## One Class SVM"
   ]
  },
  {
   "cell_type": "code",
   "execution_count": 90,
   "metadata": {},
   "outputs": [],
   "source": [
    "NU = 0.5\n",
    "\n",
    "clf = OneClassSVM(nu=NU, gamma='scale', kernel='rbf').fit(concated_X_train)\n",
    "\n",
    "oc_svm_answer = clf.predict(X_test)"
   ]
  },
  {
   "cell_type": "code",
   "execution_count": 91,
   "metadata": {},
   "outputs": [
    {
     "name": "stdout",
     "output_type": "stream",
     "text": [
      "0.4991203139802409 0.5008796860197591\n"
     ]
    }
   ],
   "source": [
    "normal_frac = sum(oc_svm_answer == NORMAL_LABEL) / len(X_test)\n",
    "abnormal_frac = 1 - normal_frac\n",
    "print(normal_frac, abnormal_frac)"
   ]
  },
  {
   "cell_type": "code",
   "execution_count": 92,
   "metadata": {},
   "outputs": [],
   "source": [
    "ans_df = make_answer(\n",
    "    test_df=test_df, \n",
    "    answer=oc_svm_answer, \n",
    "    file_name=f\"230421_ocsvm_nu{NU:.2f}.csv\",\n",
    "    save=True\n",
    "    )"
   ]
  },
  {
   "attachments": {},
   "cell_type": "markdown",
   "metadata": {},
   "source": [
    "## Typewise OCSVM"
   ]
  },
  {
   "cell_type": "code",
   "execution_count": 125,
   "metadata": {},
   "outputs": [
    {
     "data": {
      "image/png": "[encoded data removed]",
      "text/plain": [
       "<Figure size 432x288 with 1 Axes>"
      ]
     },
     "metadata": {
      "needs_background": "light"
     },
     "output_type": "display_data"
    },
    {
     "data": {
      "image/png": "[encoded data removed]",
      "text/plain": [
       "<Figure size 432x288 with 1 Axes>"
      ]
     },
     "metadata": {
      "needs_background": "light"
     },
     "output_type": "display_data"
    },
    {
     "data": {
      "image/png": "[encoded data removed]",
      "text/plain": [
       "<Figure size 432x288 with 1 Axes>"
      ]
     },
     "metadata": {
      "needs_background": "light"
     },
     "output_type": "display_data"
    },
    {
     "data": {
      "image/png": "[encoded data removed]",
      "text/plain": [
       "<Figure size 432x288 with 1 Axes>"
      ]
     },
     "metadata": {
      "needs_background": "light"
     },
     "output_type": "display_data"
    },
    {
     "data": {
      "image/png": "[encoded data removed]",
      "text/plain": [
       "<Figure size 432x288 with 1 Axes>"
      ]
     },
     "metadata": {
      "needs_background": "light"
     },
     "output_type": "display_data"
    },
    {
     "data": {
      "image/png": "[encoded data removed]",
      "text/plain": [
       "<Figure size 432x288 with 1 Axes>"
      ]
     },
     "metadata": {
      "needs_background": "light"
     },
     "output_type": "display_data"
    },
    {
     "data": {
      "image/png": "[encoded data removed]",
      "text/plain": [
       "<Figure size 432x288 with 1 Axes>"
      ]
     },
     "metadata": {
      "needs_background": "light"
     },
     "output_type": "display_data"
    },
    {
     "data": {
      "image/png": "[encoded data removed]",
      "text/plain": [
       "<Figure size 432x288 with 1 Axes>"
      ]
     },
     "metadata": {
      "needs_background": "light"
     },
     "output_type": "display_data"
    }
   ],
   "source": [
    "from sklearn.decomposition import PCA\n",
    "from sklearn.linear_model import LinearRegression\n",
    "\n",
    "plot = True\n",
    "\n",
    "train_typewise_gb = train_df.groupby(\"type\")\n",
    "test_typewise_gb = test_df.groupby(\"type\")\n",
    "\n",
    "input_df = train_df[column_list]\n",
    "pca_X = input_df.to_numpy(float)\n",
    "pca = PCA(n_components=2)\n",
    "pca.fit(pca_X)\n",
    "pca_features = pca.transform(pca_X)\n",
    "\n",
    "outlier_sigma = 0.6\n",
    "final_answer = []\n",
    "for type_idx in [i for i in range(8)]:\n",
    "#for type_idx, type_df in test_df.groupby(\"type\"):\n",
    "    \n",
    "    X_train = train_typewise_gb.get_group(type_idx)[column_list].to_numpy(np.float32)\n",
    "    y_train = np.ones((X_train.shape[0], 1))\n",
    "    X_test = test_typewise_gb.get_group(type_idx)[column_list].to_numpy(np.float32)\n",
    "\n",
    "    mm_scaler = MinMaxScaler()\n",
    "    X_train = mm_scaler.fit_transform(X_train)\n",
    "    X_test = mm_scaler.fit_transform(X_test)\n",
    "    \n",
    "    trans_X = pca.transform(X_test)\n",
    "    \n",
    "    lin_X = trans_X[:, 0].reshape(-1,1)\n",
    "    lin_y = trans_X[:, 1]\n",
    "    lin_reg = LinearRegression()\n",
    "    lin_reg.fit(lin_X, lin_y)\n",
    "    lin_pred_y = lin_reg.predict(lin_X)\n",
    "    \n",
    "    dist = (lin_y - lin_pred_y)**2 # RMSE\n",
    "    mean_dist = np.mean(dist, axis=0)\n",
    "    std_dist = np.std(dist, axis=0)\n",
    "    \n",
    "    outlier_idx = np.array([\n",
    "        idx \n",
    "        for idx, dist in enumerate(dist) \n",
    "        if (dist < mean_dist - outlier_sigma*std_dist) or (dist > mean_dist + outlier_sigma*std_dist)\n",
    "    ])\n",
    "    if std_dist < 0.0001:\n",
    "        outlier_idx = np.array([])\n",
    "    \n",
    "    if plot:\n",
    "        plt.figure()\n",
    "        plt.title(f'type{type_idx} 2D PCA Graph')\n",
    "        \n",
    "        plt.scatter(x=lin_X.flatten(), y=lin_y)\n",
    "        if outlier_idx.shape[0] != 0:\n",
    "            plt.scatter(x=lin_X.flatten()[outlier_idx], y=lin_y[outlier_idx], color=\"red\")\n",
    "        \n",
    "        plt.plot(lin_X, lin_pred_y, color=\"green\")\n",
    "    \n",
    "    ad_ratio = float(outlier_idx.shape[0]/ X_train.shape[0])\n",
    "    \n",
    "    # # OC SVM\n",
    "    \n",
    "    nu = ad_ratio\n",
    "    \n",
    "    oc_svm_answer = None\n",
    "    if nu != 0.0:\n",
    "        clf = OneClassSVM(nu=nu, gamma='scale', kernel='linear').fit(X_train)\n",
    "        oc_svm_answer = clf.predict(X_test)\n",
    "    else:\n",
    "        oc_svm_answer = [NORMAL_LABEL for _ in range(X_test.shape[0])]\n",
    "    \n",
    "    # print(ad_ratio, nu, type_idx, X_train.shape, X_test.shape, y_train.shape)\n",
    "    final_answer.extend(oc_svm_answer)"
   ]
  },
  {
   "cell_type": "code",
   "execution_count": 126,
   "metadata": {},
   "outputs": [],
   "source": [
    "ans_df = pd.DataFrame()\n",
    "ans_df[\"type\"] = test_df[\"type\"]\n",
    "ans_df[\"label\"] = final_answer\n",
    "ans_df[\"label\"][ans_df[\"label\"] == 1] = 0\n",
    "ans_df[\"label\"][ans_df[\"label\"] == -1] = 1"
   ]
  },
  {
   "cell_type": "code",
   "execution_count": 127,
   "metadata": {},
   "outputs": [],
   "source": [
    "ans_df.to_csv(\"/home/gjxodud1/2023_aisc/result/230421_ocsvm_optim_nu_linear.csv\", index=False)"
   ]
  },
  {
   "cell_type": "code",
   "execution_count": 128,
   "metadata": {},
   "outputs": [
    {
     "data": {
      "text/plain": [
       "6608"
      ]
     },
     "execution_count": 128,
     "metadata": {},
     "output_type": "execute_result"
    }
   ],
   "source": [
    "sum(ans_df[\"label\"]==0)"
   ]
  },
  {
   "cell_type": "code",
   "execution_count": 129,
   "metadata": {},
   "outputs": [
    {
     "data": {
      "text/plain": [
       "781"
      ]
     },
     "execution_count": 129,
     "metadata": {},
     "output_type": "execute_result"
    }
   ],
   "source": [
    "sum(ans_df[\"label\"]==1)"
   ]
  },
  {
   "attachments": {},
   "cell_type": "markdown",
   "metadata": {},
   "source": [
    "## SVDD"
   ]
  },
  {
   "cell_type": "code",
   "execution_count": 130,
   "metadata": {},
   "outputs": [],
   "source": [
    "import numpy as np\n",
    "import time\n",
    "import matplotlib.pyplot as plt\n",
    "from collections import defaultdict\n",
    "import warnings\n",
    "from cvxopt import matrix, solvers\n",
    "from sklearn.base import BaseEstimator, OutlierMixin\n",
    "from sklearn.metrics import accuracy_score\n",
    "from sklearn.metrics.pairwise import pairwise_kernels\n",
    "from sklearn.model_selection import train_test_split\n",
    "\n",
    "class BaseSVDD(BaseEstimator, OutlierMixin):\n",
    "    \"\"\"One-Classification using Support Vector Data Description (SVDD).\n",
    "    Parameters\n",
    "    ----------\n",
    "    C : float, default=1.0\n",
    "        Regularization parameter. The strength of the regularization is\n",
    "        inversely proportional to C. Must be strictly positive. The penalty\n",
    "        is a squared l2 penalty.\n",
    "    kernel : {'linear', 'poly', 'rbf', 'sigmoid'}, default='rbf'\n",
    "        Specifies the kernel type to be used in the algorithm.\n",
    "        It must be one of 'linear', 'poly', 'rbf', 'sigmoid'.\n",
    "    degree : int, default=3\n",
    "        Degree of the polynomial kernel function ('poly').\n",
    "        Ignored by all other kernels.\n",
    "    gamma : {'scale', 'auto'} or float, default='scale'\n",
    "        Kernel coefficient for 'rbf', 'poly' and 'sigmoid'.\n",
    "        - if ``gamma='scale'`` (default) is passed then it uses\n",
    "          1 / (n_features * X.var()) as value of gamma,\n",
    "        - if 'auto', uses 1 / n_features.\n",
    "    coef0 : float, default=0.0\n",
    "        Independent term in kernel function.\n",
    "        It is only significant in 'poly' and 'sigmoid'.\n",
    "    n_jobs : int, default=None\n",
    "        The number of parallel jobs to run.\n",
    "        ``None`` means 1 unless in a :obj:`joblib.parallel_backend` context.\n",
    "        ``-1`` means using all processors. See :term:`Glossary <n_jobs>`\n",
    "        for more details.\n",
    "    \"\"\"\n",
    "\n",
    "    def __init__(self, \n",
    "                 C=0.9,\n",
    "                 kernel='rbf',\n",
    "                 degree=3,\n",
    "                 gamma=None,\n",
    "                 coef0=1,\n",
    "                 display='on',\n",
    "                 n_jobs=None):\n",
    "\n",
    "        self.C = C\n",
    "        self.kernel = kernel\n",
    "        self.degree = degree\n",
    "        self.gamma = gamma       \n",
    "        self.coef0 = coef0\n",
    "        self.n_jobs = n_jobs\n",
    "        self.display = display\n",
    "        self.X = None\n",
    "        self.y = None\n",
    "        self.weight = None\n",
    "        self.exist_label = True\n",
    "        self.label_type = None\n",
    "        self.support_vectors = None\n",
    "        self.support_vector_indices = None\n",
    "        self.n_support_vectors = None\n",
    "        self.n_iterations = None\n",
    "        self.object_value = None\n",
    "        self.alpha = None\n",
    "        self.alpha_tolerance = 1e-6\n",
    "        self.support_vector_alpha = None\n",
    "        self.n_support_vectors_ratio = None\n",
    "        self.radius = None\n",
    "        self.center = None\n",
    "        self.offset = None\n",
    "        self.distance = None\n",
    "        self.accuracy = None\n",
    "        self.predicted_y = None\n",
    "        self.running_time = None\n",
    "        self.boundary_indices = None\n",
    "        self.classes_ = None\n",
    "        \n",
    "\n",
    "   \n",
    "    @property \n",
    "    def n_samples(self):\n",
    "        return self.X.shape[0]\n",
    "    @property \n",
    "    def n_features(self):\n",
    "        return self.X.shape[1]\n",
    "    @property \n",
    "    def n_positive_samples(self):\n",
    "        return np.sum(self.y == 1)\n",
    "    @property \n",
    "    def n_negative_samples(self):\n",
    "        return np.sum(self.y == -1)\n",
    "    \n",
    " \n",
    "    def fit(self, X, y=None, weight=None):\n",
    "        \"\"\"Fit the model from data in X.\n",
    "        Parameters\n",
    "        ----------\n",
    "        X : {array-like, sparse matrix}, shape (n_samples, n_features)\n",
    "            The training input samples.\n",
    "        y : array-like, shape (n_samples, 1)\n",
    "            The target values (class labels in classification, \n",
    "            1 for positive samples and -1 for negative samples)\n",
    "        weight : array-like of shape (n_samples, 1), default=None\n",
    "            \n",
    "        Returns\n",
    "        -------\n",
    "        self : object\n",
    "            Returns self.\n",
    "        \"\"\"\n",
    "\n",
    "        start_time = time.time()\n",
    "        # parameter preprocessing\n",
    "        self.X, self.y, self.y_type, self.exist_y = self._check_X_y(X, y)\n",
    "\n",
    "        if self.y_type == 'single':\n",
    "            self.C = [self.C, 1]\n",
    "    \n",
    "        if self.y_type == 'hybrid':\n",
    "            self.C = [self.C, 2/self.n_negative_samples]\n",
    "            \n",
    "        if weight is None:\n",
    "            self.weight = np.ones((self.n_samples, 1), dtype=np.int64)\n",
    "        else:\n",
    "            self.weight = weight   \n",
    "            \n",
    "        # check 'gamma'\n",
    "        if self.gamma == 0:\n",
    "            raise ValueError(\n",
    "                \"The gamma value of 0.0 is invalid. Use 'auto' to set\"\n",
    "                \" gamma to a value of 1 / n_features.\") \n",
    "        if self.gamma is None:\n",
    "            self.gamma = 'scale'\n",
    "        if isinstance(self.gamma, str):\n",
    "            if self.gamma == \"scale\":\n",
    "               X_var = X.var()\n",
    "               self.gamma = 1.0 / (X.shape[1] * X_var) if X_var != 0 else 1.0\n",
    "            elif self.gamma == \"auto\":\n",
    "                self.gamma = 1.0 / X.shape[1]\n",
    "            else:\n",
    "               raise ValueError(\n",
    "                   \"When 'gamma' is a string, it should be either 'scale' or 'auto'.\")\n",
    "  \n",
    "        # get SVDD model\n",
    "        self.get_model()\n",
    "        display_ = self.display\n",
    "        self.display = 'off'\n",
    "        self.predicted_y_ = self.predict(self.X, self.y)['predicted_y']\n",
    "        self.accuracy = accuracy_score(self.y, self.predicted_y_)\n",
    "        self.display = display_\n",
    "        end_time = time.time()\n",
    "        self.running_time = end_time - start_time\n",
    "\n",
    "        # display    \n",
    "        if self.display == 'on':\n",
    "           self.display_fit()\n",
    "        return self\n",
    "   \n",
    "    def get_model(self):\n",
    "        #\n",
    "        K = self._get_kernel(self.X, self.X)\n",
    "        self.solve_problem(K)\n",
    "\n",
    "    def _get_kernel(self, X, Y=None):\n",
    "        # get kernel matrix\n",
    "        if callable(self.kernel):\n",
    "            params = self.kernel_params or {}\n",
    "        else:\n",
    "            params = {\"gamma\": self.gamma, \"degree\": self.degree, \"coef0\": self.coef0}\n",
    "\n",
    "        return pairwise_kernels(\n",
    "            X, Y, metric=self.kernel, filter_params=True, n_jobs=self.n_jobs, **params)\n",
    "\n",
    "    def solve_problem(self, K):\n",
    "        \"\"\" \n",
    "        DESCRIPTION\n",
    "        \n",
    "        Solve the Lagrange dual problem using cvxopt\n",
    "        \n",
    "        minimize      (1/2)*x'*P*x + q'*x\n",
    "        subject to    G*x <= h\n",
    "                      A*x = b                    \n",
    "        --------------------------------------------------\n",
    "        \n",
    "        \"\"\" \n",
    "\n",
    "        solvers.options['show_progress'] = False\n",
    "        K = np.multiply(self.y * self.y.T, K)\n",
    "        \n",
    "        # P\n",
    "        n = K.shape[0]\n",
    "        P = K + K.T\n",
    "        \n",
    "        # q\n",
    "        q = -np.multiply(self.y, np.mat(np.diagonal(K)).T)\n",
    "\n",
    "        # G\n",
    "        G1 = -np.eye(n)\n",
    "        G2 = np.eye(n)\n",
    "        G = np.append(G1, G2, axis=0)\n",
    "        \n",
    "        # h\n",
    "        h1 = np.zeros([n, 1])\n",
    "        h2 = np.ones([n, 1])\n",
    "        \n",
    "        if self.y_type == 'single':\n",
    "            h2[self.y == 1] = self.C[0] * self.weight[self.y == 1]\n",
    "        \n",
    "        if self.y_type == 'hybrid':\n",
    "            h2[self.y == 1] = self.C[0] * self.weight[self.y == 1]\n",
    "            h2[self.y == -1] = self.C[1] * self.weight[self.y == -1]\n",
    "\n",
    "        h = np.append(h1, h2, axis=0)\n",
    "        h2_ = h2\n",
    "        \n",
    "        # A, b\n",
    "        A = np.ones([n, 1]).T\n",
    "        b = np.ones([1, 1])\n",
    "\n",
    "        # \n",
    "        P = matrix(P)\n",
    "        q = matrix(q)\n",
    "        G = matrix(G)\n",
    "        h = matrix(h)\n",
    "        A = matrix(A)\n",
    "        b = matrix(b)\n",
    "\n",
    "        #\n",
    "        sol = solvers.qp(P, q, G, h, A, b)\n",
    "        \n",
    "        self.object_value = np.array(sol['dual objective'])\n",
    "        self.n_iterations = np.array(sol['iterations'])\n",
    "\n",
    "        if len(np.array(sol['x'])) == 0:\n",
    "            warnings.warn(\"No solution for the SVDD model could be found.\\n\")\n",
    "            self.alpha = np.zeros((self.n_samples, 1))\n",
    "            self.alpha[0][0] = 1\n",
    "        else:\n",
    "            self.alpha = np.array(sol['x'])     \n",
    "\n",
    "        self.alpha = self.y * self.alpha\n",
    "        self.support_vector_indices = np.where(np.abs(self.alpha) > self.alpha_tolerance)[0][:]\n",
    "        \n",
    "        # boundary indices  \n",
    "        tmp_1 = self.alpha[self.support_vector_indices, 0]\n",
    "        tmp_2 = h2_[self.support_vector_indices, 0]\n",
    "        tmp_3 = np.where(tmp_1 < tmp_2)[0][:] \n",
    "        tmp_4 = np.where(tmp_1 > self.alpha_tolerance)[0][:]\n",
    "        self.boundary_indices = self.support_vector_indices[np.array(list(set(tmp_3) & set(tmp_4)))]\n",
    "\n",
    "        # support vectors\n",
    "        self.alpha[np.where(np.abs(self.alpha) < self.alpha_tolerance)[0][:]] = 0\n",
    "        self.support_vectors = self.X[self.support_vector_indices, :]\n",
    "        self.support_vector_alpha = self.alpha[self.support_vector_indices]\n",
    "        self.n_support_vectors = self.support_vector_indices.shape[0]\n",
    "        self.n_support_vectors_ratio = self.n_support_vectors/self.n_samples\n",
    "\n",
    "        if self.n_support_vectors_ratio > 0.5:\n",
    "            warnings.warn(\"The fitted SVDD model may be overfitting.\\n\")\n",
    "\n",
    "        # offset, center, radius\n",
    "        tmp_5 = np.dot(np.ones((self.n_samples, 1)), self.alpha.T)\n",
    "        tmp_6 = np.multiply(tmp_5, K)\n",
    "        tmp_ = -2*np.sum(tmp_6, axis=1, keepdims=True)        \n",
    "        self.offset = np.sum(np.multiply(np.dot(self.alpha, self.alpha.T), K)) \n",
    "        self.center = np.dot(self.alpha.T, self.X)\n",
    "        self.radius = np.sqrt(np.mean(np.diag(K)) + self.offset+np.mean(tmp_[self.boundary_indices, 0]))\n",
    "\n",
    "    def predict(self, X, y=None):\n",
    "        \"\"\"Predict the class labels for the provided data.\n",
    "        Parameters\n",
    "        ----------\n",
    "        X : array-like of shape (n_queries, n_features)\n",
    "            Test samples.\n",
    "        y : (optional) array-like, shape (n_samples, 1)\n",
    "            The target values (class labels in classification, \n",
    "            1 for positive samples and -1 for negative samples)\n",
    "        Returns\n",
    "        -------\n",
    "        predicted_y : array-like, shape (n_samples, 1)\n",
    "            The predicted target values \n",
    "        \"\"\"\n",
    "\n",
    "        start_time = time.time()\n",
    "        results = {}\n",
    "        results['X'], results['y'], results['y_type'], results['exist_y'] = self._check_X_y(X, y)\n",
    "        results['n_samples'] = results['X'].shape[0]\n",
    "        results['distance'] = self.get_distance(X)\n",
    "        results['predicted_y'] = np.mat(np.ones(results['n_samples'])).T\n",
    "        index_ = results['distance'] > self.radius\n",
    "        results['predicted_y'][index_] = -1\n",
    "        results['n_alarm'] = np.sum(index_==True)  \n",
    "          \n",
    "        if results['exist_y'] == True:\n",
    "            results['accuracy'] = accuracy_score(results['y'], results['predicted_y'])\n",
    "\n",
    "        end_time = time.time()\n",
    "        results['running_time'] = end_time - start_time\n",
    "        # display    \n",
    "        if self.display == 'on':\n",
    "            self.display_predict(results)\n",
    "        return results\n",
    "    \n",
    "    def get_distance(self, X):\n",
    "        # compute the distance between the samples and the center\n",
    "        K = self._get_kernel(X, self.X)\n",
    "        K_ = self._get_kernel(X, X)\n",
    "        tmp_1 = np.dot(np.ones((X.shape[0], 1), dtype=np.int64), self.alpha.T)\n",
    "        tmp_2 = np.multiply(tmp_1, K)\n",
    "        tmp_ = -2*np.sum(tmp_2, axis=1, keepdims=True)  \n",
    "        distance = np.sqrt(np.mat(np.diag(K_)).T+self.offset+tmp_)\n",
    "        return distance\n",
    "    \n",
    "    def fit_predict(self, X, y=None, weight=None):\n",
    "        # Perform fit on X and returns labels for X.\n",
    "        self.fit(X, y, weight)\n",
    "        return self.predict(X, y)\n",
    "        \n",
    "    def decision_function(self, X):\n",
    "        \"\"\"Signed distance to the separating hyperplane.\n",
    "        Signed distance is positive for an inlier and negative for an outlier.\n",
    "        Parameters\n",
    "        ----------\n",
    "        X : array-like of shape (n_samples, n_features)\n",
    "            The data matrix.\n",
    "        Returns\n",
    "        -------\n",
    "        dec : ndarray of shape (n_samples, 1)\n",
    "            Returns the decision function of the samples.\n",
    "            The anomaly score of the input samples. The lower, \n",
    "            the more abnormal. Negative scores represent outliers,\n",
    "            positive scores represent inliers.\n",
    "            \n",
    "        \"\"\"\n",
    "        return self.radius-self.get_distance(X)\n",
    "    \n",
    "    def get_params(self, deep=True):\n",
    "        \"\"\"\n",
    "        Get parameters for this estimator.\n",
    "        Parameters\n",
    "        ----------\n",
    "        deep : bool, default=True\n",
    "            If True, will return the parameters for this estimator and\n",
    "            contained subobjects that are estimators.\n",
    "        Returns\n",
    "        -------\n",
    "        params : dict\n",
    "            Parameter names mapped to their values.\n",
    "        \"\"\"\n",
    "        out = dict()\n",
    "        for key in self._get_param_names():\n",
    "            value = getattr(self, key)\n",
    "            if deep and hasattr(value, \"get_params\"):\n",
    "                deep_items = value.get_params().items()\n",
    "                out.update((key + \"__\" + k, val) for k, val in deep_items)\n",
    "            out[key] = value\n",
    "        return out \n",
    "\n",
    "    def set_params(self, **params):\n",
    "        \"\"\"\n",
    "        Set the parameters of this estimator.\n",
    "        The method works on simple estimators as well as on nested objects\n",
    "        (such as :class:`~sklearn.pipeline.Pipeline`). The latter have\n",
    "        parameters of the form ``<component>__<parameter>`` so that it's\n",
    "        possible to update each component of a nested object.\n",
    "        Parameters\n",
    "        ----------\n",
    "        **params : dict\n",
    "            Estimator parameters.\n",
    "        Returns\n",
    "        -------\n",
    "        self : estimator instance\n",
    "            Estimator instance.\n",
    "        \"\"\"\n",
    "        if not params:\n",
    "            # Simple optimization to gain speed (inspect is slow)\n",
    "            return self\n",
    "        valid_params = self.get_params(deep=True)\n",
    "\n",
    "        nested_params = defaultdict(dict)  # grouped by prefix\n",
    "        for key, value in params.items():\n",
    "            key, delim, sub_key = key.partition(\"__\")\n",
    "            if key not in valid_params:\n",
    "                raise ValueError(\n",
    "                    \"Invalid parameter %s for estimator %s. \"\n",
    "                    \"Check the list of available parameters \"\n",
    "                    \"with `estimator.get_params().keys()`.\" % (key, self)\n",
    "                )\n",
    "\n",
    "            if delim:\n",
    "                nested_params[key][sub_key] = value\n",
    "            else:\n",
    "                setattr(self, key, value)\n",
    "                valid_params[key] = value\n",
    "\n",
    "        for key, sub_params in nested_params.items():\n",
    "            valid_params[key].set_params(**sub_params)\n",
    "\n",
    "        return self\n",
    " \n",
    "    def _check_X_y(self, X, y):\n",
    "\n",
    "        # check for labels\n",
    "        if y is None:\n",
    "            y = np.ones((X.shape[0], 1))\n",
    "            exist_y = False\n",
    "        else:\n",
    "            exist_y = True   \n",
    "\n",
    "        # check for object type (numpy.ndarray)\n",
    "        if type(X) is not np.ndarray or type(y) is not np.ndarray:\n",
    "            raise SyntaxError(\"The type of X and y must be 'numpy.ndarray'.\\n\")\n",
    "        \n",
    "        # check for data dimensionality\n",
    "        if len(X.shape) != 2 or len(y.shape) != 2:\n",
    "            raise SyntaxError(\"The X and y must be 2D.\\n\")\n",
    "          \n",
    "        # check for data length\n",
    "        if X.shape[0] != y.shape[0]:\n",
    "            raise SyntaxError(\"The length of X and y must the same.\\n\")   \n",
    "             \n",
    "        # check for label values\n",
    "        tmp_ = np.unique(y)\n",
    "        if np.all(tmp_ == np.array([1])) or np.all(tmp_ == np.array([-1])):\n",
    "            y_type = 'single'\n",
    "           \n",
    "        elif np.all(tmp_ == np.array([1, -1])) or np.all(tmp_ == np.array([-1, 1])):\n",
    "            y_type = 'hybrid'        \n",
    "          \n",
    "        else:\n",
    "            errorText = \"SVDD is only supported for one-class or binary classification. \"\\\n",
    "                        \"The label must be 1 for positive samples or -1 for negative samples.\\n\"\n",
    "            raise SyntaxError(errorText)\n",
    "            \n",
    "        self.classes_ = np.unique(y)\n",
    "\n",
    "        return X, y, y_type, exist_y\n",
    "\n",
    "    def display_fit(self):\n",
    "        # display the fitting results       \n",
    "        print('\\n')\n",
    "        print('*** Fitting of the SVDD model is completed. ***\\n')\n",
    "        print('running time         = %.4f seconds'   % self.running_time)\n",
    "        print('kernel function      = %s'             % self.kernel)\n",
    "        print('iterations           = %d'             % self.n_iterations)\n",
    "        print('number of samples    = %d'             % self.n_samples)\n",
    "        print('number of features   = %d'             % self.n_features)\n",
    "        print('number of SVs        = %d'             % self.n_support_vectors)\n",
    "        print('ratio of SVs         = %.4f %%'        % (100*self.n_support_vectors_ratio))\n",
    "        print('accuracy             = %.4f %%'        % (100*self.accuracy))\n",
    "        print('\\n')        \n",
    "        \n",
    "    def display_predict(self, results):\n",
    "        # display test results       \n",
    "        print('\\n')\n",
    "        print('*** Prediction of the provided data is completed. ***\\n')\n",
    "        print('running time         = %.4f seconds'   % results['running_time'])\n",
    "        print('number of samples    = %d'             % results['n_samples'])                                                        \n",
    "        print('number of alarm      = %d'             % results['n_alarm'])  \n",
    "        if results['exist_y'] == True:\n",
    "            print('accuracy             = %.4f %%'        % (100*results['accuracy']))\n",
    "        print('\\n')  \n",
    "\n",
    "    def plot_distance(self, radius, distance):\n",
    "        \"\"\" \n",
    "        DESCRIPTION\n",
    "        \n",
    "        Plot the curve of distance\n",
    "        --------------------------------------------------------------- \n",
    "        \n",
    "        \"\"\" \n",
    "\n",
    "        n = distance.shape[0]\n",
    "        fig = plt.figure(figsize=(10, 6))\n",
    "        ax = fig.add_subplot(1, 1, 1)\n",
    "        radius = np.ones((n, 1))*radius\n",
    "\n",
    "        ax.plot(radius, \n",
    "                color='r',\n",
    "                linestyle='-', \n",
    "                marker='None',\n",
    "                linewidth=3, \n",
    "                markeredgecolor='k',\n",
    "                markerfacecolor='w', \n",
    "                markersize=6)\n",
    "        \n",
    "        ax.plot(distance,\n",
    "                color='k',\n",
    "                linestyle=':',\n",
    "                marker='o',\n",
    "                linewidth=1,\n",
    "                markeredgecolor='k',\n",
    "                markerfacecolor='C4',\n",
    "                markersize=6)\n",
    "        \n",
    "        ax.set_xlabel('Samples')\n",
    "        ax.set_ylabel('Distance')\n",
    "        \n",
    "        ax.legend([\"Radius\", \"Distance\"], \n",
    "                  ncol=1, loc=0, \n",
    "                  edgecolor='black', \n",
    "                  markerscale=1, fancybox=True)\n",
    "        ax.yaxis.grid()\n",
    "        plt.show()\n",
    "\n",
    "    def plot_boundary(self, X, y=None, expand_ratio=0.2, n_grids=50, \n",
    "                      color_map='RdYlBu', n_level=6):\n",
    "        \"\"\" \n",
    "        DESCRIPTION\n",
    "        \n",
    "        Plot the boundary\n",
    "        --------------------------------------------------------------- \n",
    "        \n",
    "        \"\"\" \n",
    "        start_time = time.time()  \n",
    "        dim = X.shape[1]\n",
    "        if dim != 2:\n",
    "            raise SyntaxError('Visualization of decision boundary only supports for 2D data')\n",
    "        x_range = np.zeros(shape=(n_grids, 2))\n",
    "        for i in range(2):  \n",
    "            _tmp_ = (np.max(X[:, i])-np.min(X[:, i]))*expand_ratio\n",
    "            xlim_1 = np.min(X[:, i])-_tmp_\n",
    "            xlim_2 = np.max(X[:, i])+_tmp_\n",
    "            x_range[:, i] = np.linspace(xlim_1, xlim_2, n_grids)\n",
    "        \n",
    "        # grid\n",
    "        xv, yv = np.meshgrid(x_range[:, 0], x_range[:, 1])\n",
    "        num1 = xv.shape[0]\n",
    "        num2 = yv.shape[0]\n",
    "        print('Calculating the grid scores (%04d*%04d)...\\n' %(num1, num2))\n",
    "        distance_ = self.get_distance(np.c_[xv.ravel(), yv.ravel()])\n",
    "        distance = distance_.reshape(xv.shape)\n",
    "        end_time = time.time()\n",
    "        print('Calculation of the grid scores is completed. Time cost %.4f seconds\\n' % (end_time-start_time))\n",
    "\n",
    "        fig = plt.figure(figsize=(20, 6))\n",
    "        \n",
    "        # figure 1: the 3D contour\n",
    "        ax1 = fig.add_subplot(1, 3, 1, projection='3d') \n",
    "        ax1.plot_surface(xv, yv, distance, cmap=color_map)\n",
    "        ax1.contourf(xv, yv, distance.A, n_level, zdir='z', offset=np.min(distance)*0.9, cmap=color_map)\n",
    "        ax1.set_zlim(np.min(distance)*0.9, np.max(distance)*1.05)\n",
    "\n",
    "        # figure 2: the 2D contour\n",
    "        ax2 = fig.add_subplot(1, 3, 2)    \n",
    "        ctf1 = ax2.contourf(xv, yv, distance, n_level, alpha=0.8, cmap=color_map)\n",
    "        ctf2 = ax2.contour(xv, yv, distance, n_level, colors='black', linewidths=1)\n",
    "        plt.clabel(ctf2, inline=True)\n",
    "        plt.colorbar(ctf1)\n",
    "\n",
    "        # figure 3: the 2D contour and data\n",
    "        ax3 = fig.add_subplot(1, 3, 3)\n",
    "        _, y, _, _ = self._check_X_y(X, y) \n",
    "        tmp_1 = y == 1\n",
    "        tmp_2 = y == -1\n",
    "        positive_indices = tmp_1[:, 0]\n",
    "        negative_indices = tmp_2[:, 0]\n",
    "\n",
    "        if self.y_type == 'single':\n",
    "\n",
    "            ax3.scatter(X[:, 0], \n",
    "                        X[:, 1],\n",
    "                        facecolor='C0', marker='o', s=100, linewidths=2,\n",
    "                        edgecolor='black', zorder=2)\n",
    "\n",
    "            ax3.scatter(X[self.support_vector_indices, 0],\n",
    "                        X[self.support_vector_indices, 1],\n",
    "                        facecolor='C2', marker='o', s=144, linewidths=2,\n",
    "                        edgecolor='black', zorder=2)\n",
    "        \n",
    "            ax3.contour(xv, yv, distance, levels=[self.radius],\n",
    "                        colors='C3', linewidths=7, zorder=1)\n",
    "            \n",
    "            ax3.legend([\"Data\", \"Support vectors\"], \n",
    "                      ncol=1, loc='upper left', edgecolor='black',\n",
    "                      markerscale=1.2, fancybox=True) \n",
    "                \n",
    "        else:\n",
    "            ax3.scatter(X[positive_indices, 0], \n",
    "                        X[positive_indices, 1],\n",
    "                        facecolor='C0', marker='o', s=100, linewidths=2,\n",
    "                        edgecolor='black', zorder=2)\n",
    "            \n",
    "            ax3.scatter(X[negative_indices, 0], \n",
    "                        X[negative_indices, 1],\n",
    "                        facecolor='C4', marker='s', s =100, linewidths=2,\n",
    "                        edgecolor='black', zorder=2)\n",
    "        \n",
    "            ax3.scatter(X[self.support_vector_indices, 0],\n",
    "                        X[self.support_vector_indices, 1],\n",
    "                        facecolor='C2', marker='o', s=144, linewidths=2,\n",
    "                        edgecolor='black', zorder=2)\n",
    "            \n",
    "            ax3.contour(xv, yv, distance, levels=[self.radius],\n",
    "                        colors='C3', linewidths=7, zorder=1)\n",
    "            \n",
    "            ax3.legend([\"Data (+)\", \"Data (-)\", \"Support vectors\"], \n",
    "                      ncol=1, loc='upper left', edgecolor='black',\n",
    "                      markerscale=1.2, fancybox=True) \n",
    "\n",
    "        plt.grid()\n",
    "        plt.show()"
   ]
  },
  {
   "attachments": {},
   "cell_type": "markdown",
   "metadata": {},
   "source": [
    "## type wise train"
   ]
  },
  {
   "attachments": {},
   "cell_type": "markdown",
   "metadata": {},
   "source": [
    "#### svdd"
   ]
  },
  {
   "cell_type": "code",
   "execution_count": 144,
   "metadata": {},
   "outputs": [
    {
     "name": "stderr",
     "output_type": "stream",
     "text": [
      "  0%|          | 0/1 [00:00<?, ?it/s]/tmp/ipykernel_3146234/1165240286.py:269: RuntimeWarning: invalid value encountered in sqrt\n",
      "  self.radius = np.sqrt(np.mean(np.diag(K)) + self.offset+np.mean(tmp_[self.boundary_indices, 0]))\n",
      "100%|██████████| 1/1 [00:01<00:00,  1.27s/it]\n"
     ]
    }
   ],
   "source": [
    "temp_column_list = ['air_inflow', 'air_end_temp', 'motor_current', 'motor_rpm', 'motor_temp', 'motor_vibe', 'out_pressure']\n",
    "\n",
    "# type-wise split\n",
    "type_idx_list = [[i] for i in range(8)]\n",
    "# type_idx_list = [[0, 4, 5, 6, 7], [1], [2], [3]]\n",
    "    \n",
    "train_typewise_gb = train_df.groupby(\"type\")\n",
    "test_typewise_gb = test_df.groupby(\"type\")\n",
    "\n",
    "result = {}\n",
    "\n",
    "#for C in tqdm(list(np.arange(0.1, 1.0, 0.1))):\n",
    "for C in tqdm([0.9]):\n",
    "\n",
    "    type_y_test_list = []\n",
    "    for type_class_list in type_idx_list:\n",
    "        \n",
    "        concat_train_df = pd.concat([\n",
    "            train_typewise_gb.get_group(type_idx)\n",
    "            for type_idx in type_class_list\n",
    "        ], axis=0)\n",
    "        \n",
    "        concat_test_df = pd.concat([\n",
    "            test_typewise_gb.get_group(type_idx)\n",
    "            for type_idx in type_class_list\n",
    "        ], axis=0)\n",
    "        \n",
    "        X_train = concat_train_df[temp_column_list].to_numpy(np.float32)\n",
    "        y_train = np.ones((X_train.shape[0], 1))\n",
    "        X_test = concat_test_df[temp_column_list].to_numpy(np.float32)\n",
    "        \n",
    "        mm_scaler = MinMaxScaler()\n",
    "        X_train = mm_scaler.fit_transform(X_train)\n",
    "        X_test = mm_scaler.fit_transform(X_test)\n",
    "        \n",
    "        svdd = BaseSVDD(C=C, kernel='linear', gamma='scale', display='off')\n",
    "        \n",
    "        # fit the SVDD model\n",
    "        svdd.fit(X_train)\n",
    "\n",
    "        # predict the label\n",
    "        result_ = svdd.predict(X_test)\n",
    "        y_test = result_['predicted_y']\n",
    "         \n",
    "        type_y_test = pd.DataFrame(index=concat_test_df.index)\n",
    "        type_y_test[\"pred\"] = np.array(y_test).squeeze()\n",
    "        type_y_test_list.append(type_y_test)\n",
    "        \n",
    "    svdd_answer = pd.concat(type_y_test_list, axis=0).sort_index()[\"pred\"].to_numpy(int)\n",
    "    \n",
    "    result[C] = sum(svdd_answer == -1)"
   ]
  },
  {
   "cell_type": "code",
   "execution_count": 145,
   "metadata": {},
   "outputs": [],
   "source": [
    "svdd_ans_df = make_answer(test_df, svdd_answer, \"230421_typeclass_svdd_c0.6.csv\", False)"
   ]
  },
  {
   "cell_type": "code",
   "execution_count": 146,
   "metadata": {},
   "outputs": [
    {
     "data": {
      "text/plain": [
       "5085"
      ]
     },
     "execution_count": 146,
     "metadata": {},
     "output_type": "execute_result"
    }
   ],
   "source": [
    "sum(svdd_answer == 1)"
   ]
  },
  {
   "cell_type": "code",
   "execution_count": 147,
   "metadata": {},
   "outputs": [
    {
     "data": {
      "text/plain": [
       "2304"
      ]
     },
     "execution_count": 147,
     "metadata": {},
     "output_type": "execute_result"
    }
   ],
   "source": [
    "sum(svdd_answer == -1)"
   ]
  },
  {
   "attachments": {},
   "cell_type": "markdown",
   "metadata": {},
   "source": [
    "#### svdd with params"
   ]
  },
  {
   "cell_type": "code",
   "execution_count": 30,
   "metadata": {},
   "outputs": [
    {
     "name": "stderr",
     "output_type": "stream",
     "text": [
      "100%|██████████| 1/1 [00:13<00:00, 13.84s/it]\n"
     ]
    }
   ],
   "source": [
    "temp_column_list = ['air_inflow', 'air_end_temp', 'motor_current', 'motor_rpm', 'motor_temp', 'motor_vibe', 'out_pressure']\n",
    "\n",
    "# type-wise split\n",
    "type_idx_list = [i for i in range(8)]\n",
    "    \n",
    "train_typewise_gb = train_df.groupby(\"type\")\n",
    "test_typewise_gb = test_df.groupby(\"type\")\n",
    "\n",
    "result = {}\n",
    "\n",
    "#for C in tqdm(list(np.arange(0.1, 1.0, 0.1))):\n",
    "for C in tqdm([0.01]):\n",
    "\n",
    "    type_y_test_list = []\n",
    "    for type_idx in type_idx_list:\n",
    "        \n",
    "        X_train = train_df.query(f\"type == {type_idx}\")[temp_column_list].to_numpy(np.float32)\n",
    "        y_train = np.ones((X_train.shape[0], 1))\n",
    "        X_test = test_df.query(f\"type == {type_idx}\")[temp_column_list].to_numpy(np.float32)\n",
    "        \n",
    "        concated_X_train = pd.concat([train_df.query(f\"type == {type_idx}\")[temp_column_list], test_df.query(f\"type == {type_idx}\")[temp_column_list]], axis=0).to_numpy(np.float32)\n",
    "        \n",
    "        mm_scaler = MinMaxScaler()\n",
    "        concated_X_train = mm_scaler.fit_transform(concated_X_train)\n",
    "        X_test = mm_scaler.fit_transform(X_test)\n",
    "        \n",
    "        svdd = BaseSVDD(C=C, kernel='rbf', gamma='scale', display='off')\n",
    "        \n",
    "        # fit the SVDD model\n",
    "        svdd.fit(concated_X_train)\n",
    "\n",
    "        # predict the label\n",
    "        result_ = svdd.predict(X_test)\n",
    "        y_test = result_['predicted_y']\n",
    "         \n",
    "        type_y_test = pd.DataFrame(index=test_df.query(f\"type == {type_idx}\").index)\n",
    "        type_y_test[\"pred\"] = np.array(y_test).squeeze()\n",
    "        type_y_test_list.append(type_y_test)\n",
    "        \n",
    "    svdd_answer = pd.concat(type_y_test_list, axis=0).sort_index()[\"pred\"].to_numpy(int)\n",
    "    \n",
    "    result[C] = sum(svdd_answer == -1)"
   ]
  },
  {
   "cell_type": "code",
   "execution_count": 27,
   "metadata": {},
   "outputs": [
    {
     "name": "stdout",
     "output_type": "stream",
     "text": [
      "7389 0\n"
     ]
    }
   ],
   "source": [
    "svdd_ans_df = make_answer(test_df, svdd_answer, \"230421_typeclass_svdd_c0.6.csv\", False)\n",
    "print(sum(svdd_answer == 1), sum(svdd_answer == -1))"
   ]
  },
  {
   "attachments": {},
   "cell_type": "markdown",
   "metadata": {},
   "source": [
    "#### oc svm"
   ]
  },
  {
   "cell_type": "code",
   "execution_count": 71,
   "metadata": {},
   "outputs": [
    {
     "name": "stderr",
     "output_type": "stream",
     "text": [
      "100%|██████████| 999/999 [01:18<00:00, 12.66it/s]\n"
     ]
    }
   ],
   "source": [
    "from tqdm import tqdm\n",
    "\n",
    "temp_column_list = ['air_inflow', 'air_end_temp', 'out_pressure', 'motor_current', 'motor_rpm', 'motor_temp', 'motor_vibe']\n",
    "\n",
    "# type-wise split\n",
    "type_idx_list = [i for i in range(8)]\n",
    "    \n",
    "train_typewise_gb = train_df.groupby(\"type\")\n",
    "test_typewise_gb = test_df.groupby(\"type\")\n",
    "\n",
    "result = {}\n",
    "\n",
    "for NU in tqdm(np.arange(0.001, 1, 0.001)):\n",
    "    \n",
    "    type_y_test_list = []\n",
    "    for type_class_list in type_idx_list:\n",
    "        \n",
    "        type_train_df = train_typewise_gb.get_group(type_class_list)\n",
    "        type_test_df = test_typewise_gb.get_group(type_class_list)\n",
    "        \n",
    "        X_train = type_train_df[temp_column_list].to_numpy(np.float32)\n",
    "        y_train = np.ones((X_train.shape[0], 1))\n",
    "        X_test = type_test_df[temp_column_list].to_numpy(np.float32)\n",
    "        \n",
    "        clf = OneClassSVM(nu=NU, gamma='scale', kernel='rbf').fit(X_train)\n",
    "\n",
    "        y_test = clf.predict(X_test)\n",
    "        \n",
    "        type_y_test = pd.DataFrame(index=type_test_df.index)\n",
    "        type_y_test[\"pred\"] = np.array(y_test).squeeze()\n",
    "        type_y_test_list.append(type_y_test)\n",
    "        \n",
    "    ocsvm_answer = pd.concat(type_y_test_list, axis=0).sort_index()[\"pred\"].to_numpy(int)\n",
    "    \n",
    "    result[NU] = sum(ocsvm_answer == 1)"
   ]
  },
  {
   "cell_type": "code",
   "execution_count": 72,
   "metadata": {},
   "outputs": [
    {
     "data": {
      "text/plain": [
       "35"
      ]
     },
     "execution_count": 72,
     "metadata": {},
     "output_type": "execute_result"
    }
   ],
   "source": [
    "sum(ocsvm_answer == 1)"
   ]
  },
  {
   "cell_type": "code",
   "execution_count": 73,
   "metadata": {},
   "outputs": [
    {
     "data": {
      "text/plain": [
       "[<matplotlib.lines.Line2D at 0x7fcbce6c45e0>]"
      ]
     },
     "execution_count": 73,
     "metadata": {},
     "output_type": "execute_result"
    },
    {
     "data": {
      "image/png": "[encoded data removed]",
      "text/plain": [
       "<Figure size 432x288 with 1 Axes>"
      ]
     },
     "metadata": {
      "needs_background": "light"
     },
     "output_type": "display_data"
    }
   ],
   "source": [
    "import matplotlib.pyplot as plt\n",
    "plt.figure()\n",
    "\n",
    "plt.plot(result.keys(), result.values())"
   ]
  },
  {
   "cell_type": "code",
   "execution_count": 65,
   "metadata": {},
   "outputs": [
    {
     "data": {
      "text/plain": [
       "dict_values([7305, 7305, 7305, 7305, 7305, 7291, 7257, 7257, 7239, 7233, 7213, 7213, 7213, 7203, 7203, 7203, 7163, 7163, 7135, 7095, 7095, 7063, 7065, 7061, 7059, 7059, 7021, 6983, 6983, 6983, 6983, 6983, 6887, 6887, 6887, 6887, 6877, 6859, 6825, 6817, 6801, 6785, 6777, 6743, 6743, 6725, 6719, 6719, 6717, 6707, 6681, 6681, 6661, 6659, 6643, 6611, 6563, 6563, 6547, 6523, 6509, 6509, 6509, 6505, 6473, 6415, 6415, 6415, 6415, 6403, 6385, 6357, 6337, 6333, 6323, 6317, 6297, 6297, 6277, 6259, 6235, 6217, 6209, 6209, 6187, 6181, 6165, 6149, 6137, 6137, 6137, 6129, 6125, 6095, 6095, 6083, 6061, 6051, 6033, 6017, 6017, 6017, 5973, 5971, 5937, 5927, 5927, 5909, 5883, 5875, 5875, 5823, 5801, 5787, 5767, 5751, 5751, 5737, 5735, 5691, 5683, 5683, 5683, 5677, 5641, 5641, 5639, 5629, 5595, 5587, 5561, 5545, 5523, 5515, 5495, 5463, 5425, 5411, 5405, 5391, 5373, 5371, 5371, 5329, 5303, 5299, 5283, 5283, 5281, 5251, 5221, 5215, 5193, 5193, 5189, 5171, 5137, 5129, 5125, 5113, 5083, 5073, 5069, 5051, 5051, 5047, 5045, 5041, 5025, 4997, 4991, 4991, 4975, 4959, 4959, 4941, 4937, 4907, 4889, 4879, 4879, 4881, 4851, 4803, 4759, 4737, 4729, 4717, 4703, 4667, 4643, 4623, 4623, 4609, 4605, 4567, 4537, 4525, 4519])"
      ]
     },
     "execution_count": 65,
     "metadata": {},
     "output_type": "execute_result"
    }
   ],
   "source": [
    "result.values()"
   ]
  }
 ],
 "metadata": {
  "kernelspec": {
   "display_name": "ts1",
   "language": "python",
   "name": "ts1"
  },
  "language_info": {
   "codemirror_mode": {
    "name": "ipython",
    "version": 3
   },
   "file_extension": ".py",
   "mimetype": "text/x-python",
   "name": "python",
   "nbconvert_exporter": "python",
   "pygments_lexer": "ipython3",
   "version": "3.8.13"
  },
  "orig_nbformat": 4
 },
 "nbformat": 4,
 "nbformat_minor": 2
}
